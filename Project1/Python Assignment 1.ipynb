{
 "cells": [
  {
   "cell_type": "code",
   "execution_count": 7,
   "id": "c947aadb",
   "metadata": {},
   "outputs": [
    {
     "name": "stdout",
     "output_type": "stream",
     "text": [
      "Enter the Value : 6\n",
      " Factorial number is :  720\n"
     ]
    }
   ],
   "source": [
    "#11 Write a python program to find the factorial of a number.\n",
    "\n",
    "num = int(input(\"Enter the Value : \"))\n",
    "factorial =1\n",
    "i=1\n",
    "if num<0:\n",
    "    print(\"factorial value doesnt exist for negative values\")\n",
    "    \n",
    "if num==0:\n",
    "    print(\" to find factorial value for zero is 1\")\n",
    "    \n",
    "if num>0:\n",
    "    for i in range (i,num+1):\n",
    "        factorial = factorial*i\n",
    "    i+=1\n",
    "print(\" Factorial number is : \", factorial)"
   ]
  },
  {
   "cell_type": "code",
   "execution_count": 8,
   "id": "cb587073",
   "metadata": {},
   "outputs": [
    {
     "name": "stdout",
     "output_type": "stream",
     "text": [
      "enter the value/number: 1213\n",
      "1213 is a prime value\n"
     ]
    }
   ],
   "source": [
    "#12. Write a python program to find whether a number is prime or composite.\n",
    "\n",
    "num=int(input(\"enter the value/number: \"))\n",
    "if num >1 :\n",
    "    for i in range(2,int(num/2)+1):\n",
    "        if(num%i) ==0:\n",
    "            print (num,\"is a composite value\")\n",
    "            break\n",
    "    else:\n",
    "        print(num,\"is a prime value\")\n",
    "        \n",
    "else:\n",
    "    print(num,\"is a composite Value\")\n",
    "    "
   ]
  },
  {
   "cell_type": "code",
   "execution_count": 9,
   "id": "b718be13",
   "metadata": {},
   "outputs": [
    {
     "name": "stdout",
     "output_type": "stream",
     "text": [
      "Enter text/string to check for palindrome :check\n",
      "check palindrome fail\n"
     ]
    }
   ],
   "source": [
    "#13. Write a python program to check whether a given string is palindrome or not.\n",
    "\n",
    "s= input(\"Enter text/string to check for palindrome :\")\n",
    "\n",
    "reverse= s[::-1]\n",
    "\n",
    "if(s==reverse):\n",
    "    print(s,\"palindrome Pass\")\n",
    "\n",
    "else:\n",
    "    print(s,\"palindrome fail\")"
   ]
  },
  {
   "cell_type": "code",
   "execution_count": 13,
   "id": "fd8d83bc",
   "metadata": {},
   "outputs": [
    {
     "name": "stdout",
     "output_type": "stream",
     "text": [
      "Insert 2 sides of triangle\n",
      "side1 : 60\n",
      "side2: 28\n",
      "3rd side of a triangle is :  66.2117814289874\n"
     ]
    }
   ],
   "source": [
    "#14. Write a Python program to get the third side of right-angled triangle from two given sides.\n",
    "from math import sqrt\n",
    "print(\"Insert 2 sides of triangle\")\n",
    "\n",
    "first_side = float(input(\"side1 : \"))\n",
    "second_side = float(input(\"side2: \"))\n",
    "\n",
    "third_side=sqrt(first_side**2 + second_side**2)\n",
    "\n",
    "print (\"3rd side of a triangle is : \",third_side)"
   ]
  },
  {
   "cell_type": "code",
   "execution_count": 14,
   "id": "d78773ce",
   "metadata": {},
   "outputs": [
    {
     "name": "stdout",
     "output_type": "stream",
     "text": [
      "Enter any stringcheck any thing\n",
      "{'c': 2, 'h': 2, 'e': 1, 'k': 1, ' ': 2, 'a': 1, 'n': 2, 'y': 1, 't': 1, 'i': 1, 'g': 1}\n"
     ]
    }
   ],
   "source": [
    "#15. Write a python program to print the frequency of each of the characters present in a given string.\n",
    "\n",
    "str1 = input(\"Enter any string\")\n",
    "d1 = dict()\n",
    "for i in str1:\n",
    "    if i in d1:\n",
    "        d1[i]=d1[i]+1\n",
    "    else:\n",
    "        d1[i]=1\n",
    "print(d1)"
   ]
  },
  {
   "cell_type": "code",
   "execution_count": null,
   "id": "9842a16d",
   "metadata": {},
   "outputs": [],
   "source": []
  }
 ],
 "metadata": {
  "kernelspec": {
   "display_name": "Python 3 (ipykernel)",
   "language": "python",
   "name": "python3"
  },
  "language_info": {
   "codemirror_mode": {
    "name": "ipython",
    "version": 3
   },
   "file_extension": ".py",
   "mimetype": "text/x-python",
   "name": "python",
   "nbconvert_exporter": "python",
   "pygments_lexer": "ipython3",
   "version": "3.9.7"
  }
 },
 "nbformat": 4,
 "nbformat_minor": 5
}
